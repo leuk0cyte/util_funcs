{
 "cells": [
  {
   "cell_type": "code",
   "execution_count": 3,
   "metadata": {},
   "outputs": [],
   "source": [
    "import sys\n",
    "sys.path.append('/hdd/xuenong/')\n",
    "from util_funcs import graph_utils\n",
    "from util_funcs import verilog_utils"
   ]
  },
  {
   "cell_type": "code",
   "execution_count": 4,
   "metadata": {},
   "outputs": [
    {
     "output_type": "stream",
     "name": "stdout",
     "text": [
      "Found unwanted signal: gnd\n",
      "Removing...\n",
      "Found unwanted signal: vcc\n",
      "Removing...\n",
      "Found 1'b1 has no source. It could be a input signal!\n",
      "\n",
      "Found 1'b0 has no source. It could be a input signal!\n",
      "\n",
      "Found 8'b00000000 has no source. It could be a input signal!\n",
      "\n",
      "Found 4'b0000 has no source. It could be a input signal!\n",
      "\n",
      "Found 4'b1111 has no source. It could be a input signal!\n",
      "\n",
      "Found txd_q~regout has no source. It could be a input signal!\n",
      "\n"
     ]
    }
   ],
   "source": [
    "# netlist_filename = 'netlist_divided_test.txt'\n",
    "modulename = 'cortex_soc'\n",
    "netlist_filename = '{}/{}_vo.txt'.format(modulename,modulename)\n",
    "vo_file = '{}/{}.vo'.format(modulename,modulename)\n",
    "lib_filename = 'cell_library.txt'\n",
    "\n",
    "reader = verilog_utils.verilog_reader(modulename,netlist_filename)\n",
    "# module_lib,cell_list = reader.FPGAtoGraph(netlist_filename,lib_filename)\n",
    "\n",
    "\n",
    "port_to_exclude = ['clk','clk0','clk1','inclk']\n",
    "# port_to_exclude=[]\n",
    "wire_to_exclude = ['vcc','VCC','GND','gnd','inclk','clk1','clk0','clk2','clk3','vcc','n216','n4577','n4576']\n",
    "# wire_to_exclude=[]\n",
    "module_lib,cell_list = reader.FPGAtoGraph(netlist_filename,lib_filename,vo_file,port_to_exclude,wire_to_exclude,hierarchy_identifier='|')\n"
   ]
  },
  {
   "cell_type": "code",
   "execution_count": null,
   "metadata": {},
   "outputs": [],
   "source": []
  }
 ],
 "metadata": {
  "kernelspec": {
   "display_name": "pytorch",
   "language": "python",
   "name": "pytorch"
  },
  "language_info": {
   "codemirror_mode": {
    "name": "ipython",
    "version": 3
   },
   "file_extension": ".py",
   "mimetype": "text/x-python",
   "name": "python",
   "nbconvert_exporter": "python",
   "pygments_lexer": "ipython3",
   "version": "3.8.2"
  }
 },
 "nbformat": 4,
 "nbformat_minor": 4
}